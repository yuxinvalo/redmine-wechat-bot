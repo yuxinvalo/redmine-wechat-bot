{
 "cells": [
  {
   "cell_type": "code",
   "execution_count": 22,
   "metadata": {
    "scrolled": true
   },
   "outputs": [
    {
     "name": "stdout",
     "output_type": "stream",
     "text": [
      "2020-02-24 07:11:06\n"
     ]
    }
   ],
   "source": [
    "# project attributes:\n",
    "# ['created_on', 'custom_fields', 'description', 'enabled_modules', 'files', 'id', 'identifier', \n",
    "# 'inherit_members', 'is_public', 'issue_categories', 'issues', 'memberships', 'name', 'news', 'parent', \n",
    "# 'status', 'time_entries', 'time_entry_activities', 'trackers', 'updated_on', 'versions', 'wiki_pages']\n",
    "\n",
    "from redminelib import Redmine\n",
    "redmine = Redmine('http://earth.bao.ac.cn:55080/', username='syx', password='0123398lain')\n",
    "projects = redmine.project\n",
    "targetProjectName = 'SVOM科学应用系统二期'\n",
    "for i in projects.all():\n",
    "    if i.name == targetProjectName:\n",
    "        issues = i.issues\n",
    "        print(i.updated_on)"
   ]
  },
  {
   "cell_type": "code",
   "execution_count": 23,
   "metadata": {},
   "outputs": [
    {
     "data": {
      "text/plain": [
       "['assigned_to',\n",
       " 'attachments',\n",
       " 'author',\n",
       " 'category',\n",
       " 'changesets',\n",
       " 'children',\n",
       " 'closed_on',\n",
       " 'created_on',\n",
       " 'custom_fields',\n",
       " 'description',\n",
       " 'done_ratio',\n",
       " 'due_date',\n",
       " 'estimated_hours',\n",
       " 'id',\n",
       " 'is_private',\n",
       " 'journals',\n",
       " 'parent',\n",
       " 'priority',\n",
       " 'project',\n",
       " 'relations',\n",
       " 'spent_hours',\n",
       " 'start_date',\n",
       " 'status',\n",
       " 'subject',\n",
       " 'time_entries',\n",
       " 'total_estimated_hours',\n",
       " 'total_spent_hours',\n",
       " 'tracker',\n",
       " 'updated_on',\n",
       " 'watchers']"
      ]
     },
     "execution_count": 23,
     "metadata": {},
     "output_type": "execute_result"
    }
   ],
   "source": [
    "issues = redmine.issue.filter(project_id=23)\n",
    "issueTest = redmine.issue.get(2247)\n",
    "dir(issueTest)"
   ]
  },
  {
   "cell_type": "code",
   "execution_count": 24,
   "metadata": {},
   "outputs": [
    {
     "name": "stdout",
     "output_type": "stream",
     "text": [
      "2020-02-27 01:52:14\n",
      "Mo Zhang\n",
      "['groups', 'id', 'issues', 'memberships', 'name', 'time_entries']\n",
      "2020-02-27 01:22:44\n",
      "Mo Zhang\n",
      "['groups', 'id', 'issues', 'memberships', 'name', 'time_entries']\n",
      "0\n"
     ]
    }
   ],
   "source": [
    "obj = redmine.issue.all()\n",
    "# print(dir(obj))\n",
    "targetIssue = []\n",
    "for i in obj[0:2]:\n",
    "#     print(i)\n",
    "#     print(i.id)\n",
    "    print(i.updated_on)\n",
    "    print(i.assigned_to)\n",
    "    print(dir(i.assigned_to))\n",
    "    now = datetime.datetime.now()\n",
    "\n",
    "    if i.updated_on > now - datetime.timedelta(seconds=5400): \n",
    "        print(\"new updated issue: \" + i.description[0:10])\n",
    "        targetIssue.append(i)\n",
    "print(len(targetIssue))"
   ]
  },
  {
   "cell_type": "code",
   "execution_count": 3,
   "metadata": {},
   "outputs": [
    {
     "ename": "SyntaxError",
     "evalue": "unexpected character after line continuation character (<ipython-input-3-dc85b1c04b9e>, line 5)",
     "output_type": "error",
     "traceback": [
      "\u001b[1;36m  File \u001b[1;32m\"<ipython-input-3-dc85b1c04b9e>\"\u001b[1;36m, line \u001b[1;32m5\u001b[0m\n\u001b[1;33m    from ..\\config import logger\u001b[0m\n\u001b[1;37m                                ^\u001b[0m\n\u001b[1;31mSyntaxError\u001b[0m\u001b[1;31m:\u001b[0m unexpected character after line continuation character\n"
     ]
    }
   ],
   "source": [
    "# import codecs\n",
    "import traceback\n",
    "import datetime\n",
    "from utils import log\n",
    "from ../config import logger\n",
    "from utils import getDuration\n",
    "from utils import getEnvVariable\n",
    "from redmine_issues_hooker import getRedmine\n",
    "from redmine_issues_hooker import getTargetIssues\n",
    "from redmine_issues_hooker import blablaUpdateIssue\n",
    "from redmine_issues_hooker import getRedmine\n",
    "targetProjectName = 'TARGET_PROJECT_NAME'\n",
    "issueTimer = 'ISSUE_TIMER'\n",
    "trackFreq = 'TRACK_FREQ'\n",
    "def test():\n",
    "    try :\n",
    "        envVar = getEnvVariable()\n",
    "        redmine = getRedmine(envVar)\n",
    "        targetIssues = getTargetIssues(redmine, envVar[targetProjectName], envVar[issueTimer], envVar[trackFreq])\n",
    "        blablaUpdateIssue(targetIssues)\n",
    "    except Exception as e:\n",
    "        traceback.print_tb(e.__traceback__)\n",
    "#         log(2, \"Oopus, error occurs! Error: \" + str(e))\n",
    "        logger.critical(\"Oopus, error occurs! Error: \" + str(e))\n",
    "    \n",
    "\n",
    "test()"
   ]
  },
  {
   "cell_type": "code",
   "execution_count": 15,
   "metadata": {},
   "outputs": [],
   "source": [
    "import logging\n",
    "import logging.config\n",
    "\n",
    "logging.config.fileConfig(\"logger.ini\")\n",
    "logger = logging.getLogger(\"redmine-wechat-watcher\")"
   ]
  },
  {
   "cell_type": "code",
   "execution_count": 259,
   "metadata": {
    "scrolled": true
   },
   "outputs": [],
   "source": [
    "import random\n",
    "# GENERATE RANDOM TASK\n",
    "subjects = \"Daniel David Elizabeth Susan Greek Nicholas Dorothy George Helen Oliver Jake Noah James Olivia Samantha Olivia Patricia\".split(\" \")\n",
    "def getMockStartDate():\n",
    "    lateDay = random.randrange(-10, 5)\n",
    "    now = datetime.datetime.now()\n",
    "    todayZeroClock = now - datetime.timedelta(hours=now.hour, minutes=now.minute, seconds=now.second)\n",
    "    mockDate = todayZeroClock + datetime.timedelta(days=lateDay)\n",
    "    return mockDate\n",
    "\n",
    "def getMockDueDate(mockStartDate):\n",
    "    decalageDay = random.randrange(0, 7)\n",
    "    decalageHours = random.randrange(0, 24)\n",
    "    mockDate = mockStartDate + datetime.timedelta(days=decalageDay, hours=decalageHours)\n",
    "    return mockDate\n",
    "\n",
    "def createPlaceholderIssue(redmine, issueNumber):\n",
    "    statusNum = len(redmine.issue_status.all())\n",
    "    trackerNum = len(redmine.tracker.all())\n",
    "    userNum = len(redmine.user.all())\n",
    "    \n",
    "    for i in range(0, issueNumber):\n",
    "        issue = redmine.issue.new()\n",
    "        issue.project_id = 1\n",
    "        issue.subject = random.choice(subjects)\n",
    "        issue.tracker_id = random.randrange(1, trackerNum+1)\n",
    "        issue.description = 'This is a description: ' + str(i)\n",
    "        issue.status_id = random.randrange(1, statusNum+1)\n",
    "        issue.priority_id= random.randrange(1,4)\n",
    "        issue.assigned_to_id = random.randrange(5, userNum+1)\n",
    "        \n",
    "        starteDate = getMockStartDate()\n",
    "        issue.start_date = starteDate.date()\n",
    "        issue.due_date = getMockDueDate(starteDate).date()\n",
    "\n",
    "        issue.estimated_hours = random.randrange(1, 80)\n",
    "        issue.done_ratio = random.randrange(0, 101)\n",
    "        issue.save()\n",
    "        log(0, \"Create issue: \" + str(i+1) + \" done.\")\n",
    "\n",
    "\n",
    "# redmine = getRedmine(getEnvVariable())\n",
    "# createPlaceholderIssue(redmine, 30)\n",
    "# obj = redmine.priority.all()\n",
    "# print(dir(obj))\n",
    "# for i in obj:\n",
    "#     print(i)"
   ]
  },
  {
   "cell_type": "code",
   "execution_count": null,
   "metadata": {},
   "outputs": [],
   "source": [
    "# Wechat robot \n"
   ]
  },
  {
   "cell_type": "code",
   "execution_count": 30,
   "metadata": {},
   "outputs": [],
   "source": [
    "from wxpy import *\n",
    "from utils import log\n",
    "\n",
    "CONFIG_FILE = 'wechat-redmine_watcher.config'\n",
    "groupName = 'GROUP_NAME'\n",
    "loggerSwitch = 'LOGGER'\n",
    "loggerRec='LOGGER_RECIEVER'\n",
    "loggerRecName='LOGGER_RECIEVER_NAME'\n",
    "\n",
    "def getEnvVariable():\n",
    "    with codecs.open(CONFIG_FILE, 'rb', 'utf-8') as configFile:\n",
    "        envVar = {}\n",
    "        for line in configFile:\n",
    "            li=line.strip()\n",
    "            if not li.startswith(\"#\") and line.rstrip():\n",
    "                envVar[line.rstrip().split(\"=\")[0]] = line.rstrip().split(\"=\")[1]\n",
    "        configFile.close()\n",
    "    return envVar\n",
    "\n",
    "\n",
    "def createWechatLogger():\n",
    "    # Create logger reciever\n",
    "    envVar = getEnvVariable()\n",
    "    reciever = None\n",
    "    logger = None\n",
    "    try:\n",
    "        if envVar[loggerSwitch] == 'ON':\n",
    "            if envVar[loggerRec] == 'group':\n",
    "                reciever = ensure_one(bot.groups().search(envVar[loggerRecName]))\n",
    "                logger = get_wechat_logger(receiver)\n",
    "                log(0, \"Createed wechat logger: \" + envVar[loggerRec] + \" name: \" + envVar[loggerRecName])\n",
    "            elif envVar[loggerSwitch] == 'person':\n",
    "                reciever = ensure_one(bot.friends().search(envVar[loggerRecName]))\n",
    "                logger = get_wechat_logger(receiver)\n",
    "                log(0, \"Createed wechat logger: \" + envVar[loggerRec] + \" name: \" + envVar[loggerRecName])\n",
    "            else:\n",
    "                log(2, \"Can not create logger reciever because wrong configuration!\")\n",
    "    except Exception as e:\n",
    "        traceback.print_tb(e.__traceback__)\n",
    "        log(2, \"Wechat bot can not find group or person: \" + envVar[loggerRecName] + \", Error: \" + str(e))\n",
    "    return logger\n",
    " \n",
    "def init():\n",
    "     # Create Bot\n",
    "   \n",
    "    def createBot():\n",
    "        try:\n",
    "#             bot = Bot(cache_path=True, console_qr=False)\n",
    "            bot = Bot(cache_path=True)\n",
    "            bot.join()\n",
    "        except Exception as e:\n",
    "            traceback.print_tb(e.__traceback__)\n",
    "            log(2, \"Oopus, error occurs when log in wechat! Error: \" + str(e))\n",
    "    createBot()\n",
    "    return bot\n",
    "\n",
    "def getTargetGroup(bot):\n",
    "    targetGroup = None\n",
    "    try:\n",
    "        envVar = getEnvVariable()\n",
    "        targetGroup = ensure_one(bot.groups().search(envVar[groupName]))#搜索微信群\n",
    "        log(0, \" Found target group: \" + envVar[groupName])\n",
    "        logger.warning(\" Found target group: \" + envVar[groupName])\n",
    "    except Exception as e:\n",
    "        traceback.print_tb(e.__traceback__)\n",
    "        log(2, \"Oopus, error occurs when searching the target group in wechat! Error: \" + str(e))\n",
    "        if logger:\n",
    "            logger.error(\"Oopus, wechat bot can not find target group : \" + envVar[groupName] + \"! Error: \" + str(e))\n",
    "    return targetGroup\n",
    "\n",
    "def logOutBot(bot, logger):\n",
    "    try:\n",
    "        logger.warning()\n",
    "        bot.logout()\n",
    "    except Exception as e:\n",
    "        traceback.print_tb(e.__traceback__)\n",
    "        log(2, \"Oopus, error occurs when log out wechat! Error: \" + str(e))\n",
    "        if logger:\n",
    "            logger.error(\"Oopus, error occurs when log out wechat bot! Error: \" + str(e))\n",
    "    \n",
    "def talkToGroup(group, msg, logger=None):\n",
    "    try:\n",
    "        group.send(msg)\n",
    "        logger.warning(\" Send a msg to target group.\")\n",
    "    except Exception as e:\n",
    "        traceback.print_tb(e.__traceback__)\n",
    "        log(2, \"Oopus, error occurs! Error: \" + str(e))\n",
    "        if logger:\n",
    "            logger.warning(\"Oopus, error occurs when talk to group ! \" + str(e))\n",
    "\n",
    "# def test():\n",
    "# bot = init()\n",
    "# logger = createWechatLogger()\n",
    "# targetGroup = getTargetGroup(bot)\n",
    "talkToGroup(targetGroup, \"This is a wechat bot test, please ignore it.\", logger)\n",
    "    \n",
    "# test()"
   ]
  },
  {
   "cell_type": "code",
   "execution_count": 31,
   "metadata": {},
   "outputs": [
    {
     "name": "stderr",
     "output_type": "stream",
     "text": [
      "LOG OUT!\n"
     ]
    },
    {
     "data": {
      "text/plain": [
       "<ItchatReturnValue: {'BaseResponse': {'ErrMsg': '请求成功', 'Ret': 0, 'RawMsg': 'logout successfully.'}}>"
      ]
     },
     "execution_count": 31,
     "metadata": {},
     "output_type": "execute_result"
    }
   ],
   "source": [
    "from wxpy import *\n",
    "# bot=Bot()\n",
    "bot.logout()"
   ]
  },
  {
   "cell_type": "code",
   "execution_count": 24,
   "metadata": {},
   "outputs": [
    {
     "name": "stdout",
     "output_type": "stream",
     "text": [
      "<class 'logging.RootLogger'>\n",
      "2020-02-27 19:04:01 INFO: Createed wechat logger: group name: test\n"
     ]
    }
   ],
   "source": [
    "import codecs\n",
    "from utils import log\n",
    "import traceback\n",
    "\n",
    "CONFIG_FILE = 'wechat-redmine_watcher.config'\n",
    "groupName = 'GROUP_NAME'\n",
    "loggerSwitch = 'LOGGER'\n",
    "loggerRec='LOGGER_RECIEVER'\n",
    "loggerRecName='LOGGER_RECIEVER_NAME'\n",
    "\n",
    "def getEnvVariable():\n",
    "    with codecs.open(CONFIG_FILE, 'rb', 'utf-8') as configFile:\n",
    "        envVar = {}\n",
    "        for line in configFile:\n",
    "            li=line.strip()\n",
    "            if not li.startswith(\"#\") and line.rstrip():\n",
    "                envVar[line.rstrip().split(\"=\")[0]] = line.rstrip().split(\"=\")[1]\n",
    "        configFile.close()\n",
    "    return envVar\n",
    "\n",
    "\n",
    "def createWechatLogger():\n",
    "    # Create logger reciever\n",
    "    envVar = getEnvVariable()\n",
    "    reciever = None\n",
    "    logger = None\n",
    "    try:\n",
    "        if envVar[loggerSwitch] == 'ON':\n",
    "            if envVar[loggerRec] == 'group':\n",
    "                reciever = ensure_one(bot.groups().search(envVar[loggerRecName]))\n",
    "                logger = get_wechat_logger(reciever)\n",
    "                print(type(logger))\n",
    "                log(0, \"Createed wechat logger: \" + envVar[loggerRec] + \" name: \" + envVar[loggerRecName])\n",
    "            elif envVar[loggerRec] == 'person':\n",
    "                reciever = ensure_one(bot.friends().search(envVar[loggerRecName]))\n",
    "                logger = get_wechat_logger(reciever)\n",
    "                log(0, \"Createed wechat logger: \" + envVar[loggerRec] + \" name: \" + envVar[loggerRecName])\n",
    "            else:\n",
    "                log(2, \"Can not create logger reciever because wrong configuration!\")\n",
    "    except Exception as e:\n",
    "        traceback.print_tb(e.__traceback__)\n",
    "        log(2, \"Wechat bot can not find group or person: \" + envVar[loggerRecName] + \". Error: \" +str(e))\n",
    "    return logger\n",
    "logger = createWechatLogger()"
   ]
  },
  {
   "cell_type": "code",
   "execution_count": 25,
   "metadata": {},
   "outputs": [
    {
     "name": "stdout",
     "output_type": "stream",
     "text": [
      "<class 'logging.RootLogger'>\n"
     ]
    }
   ],
   "source": []
  },
  {
   "cell_type": "code",
   "execution_count": null,
   "metadata": {},
   "outputs": [],
   "source": []
  }
 ],
 "metadata": {
  "kernelspec": {
   "display_name": "Python 3",
   "language": "python",
   "name": "python3"
  },
  "language_info": {
   "codemirror_mode": {
    "name": "ipython",
    "version": 3
   },
   "file_extension": ".py",
   "mimetype": "text/x-python",
   "name": "python",
   "nbconvert_exporter": "python",
   "pygments_lexer": "ipython3",
   "version": "3.7.1"
  }
 },
 "nbformat": 4,
 "nbformat_minor": 2
}
